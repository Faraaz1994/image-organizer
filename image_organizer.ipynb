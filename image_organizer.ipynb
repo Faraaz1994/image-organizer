{
 "cells": [
  {
   "cell_type": "code",
   "execution_count": 1,
   "metadata": {},
   "outputs": [],
   "source": [
    "from PIL import Image\n",
    "import glob\n",
    "import datetime\n",
    "import re\n",
    "from pathlib import Path\n",
    "from shutil import copy2"
   ]
  },
  {
   "cell_type": "code",
   "execution_count": 2,
   "metadata": {},
   "outputs": [],
   "source": [
    "images = glob.glob(\"Images/*\")"
   ]
  },
  {
   "cell_type": "code",
   "execution_count": 3,
   "metadata": {},
   "outputs": [],
   "source": [
    "def format1(s):\n",
    "    for separator in ['/','-','_']:\n",
    "        regex = r\"\\d{4}\" +separator+ \"\\d{2}\" +separator+ \"\\d{2}\"\n",
    "        match = re.search(regex, s)\n",
    "        if match:\n",
    "            try:\n",
    "                date = datetime.datetime.strptime(match.group(), '%Y' +separator+ '%m' +separator+ '%d').date()\n",
    "                return date\n",
    "            except:\n",
    "                print(\"Invalid date\",regex)"
   ]
  },
  {
   "cell_type": "code",
   "execution_count": 4,
   "metadata": {},
   "outputs": [],
   "source": [
    "def format2(s):\n",
    "    regex = r'[_|-](\\d{8})[_|-]'\n",
    "    match = re.search(regex, s)\n",
    "    if match:\n",
    "        try:\n",
    "            match = match.group()[1:-1]\n",
    "            date = datetime.datetime.strptime(match, '%Y%m%d').date()\n",
    "            return date\n",
    "        except:\n",
    "            print(\"Invalid date\")"
   ]
  },
  {
   "cell_type": "code",
   "execution_count": 5,
   "metadata": {},
   "outputs": [],
   "source": [
    "def format3(s):\n",
    "    regex = r'_(\\d{13}).'\n",
    "    match = re.search(regex, s)\n",
    "    if match:\n",
    "        try:\n",
    "            match = int(match.group()[1:-1])\n",
    "            date = datetime.datetime.fromtimestamp(match/1000)\n",
    "            return date\n",
    "        except:\n",
    "            print(\"Invalid date\")"
   ]
  },
  {
   "cell_type": "code",
   "execution_count": 6,
   "metadata": {},
   "outputs": [],
   "source": [
    "def get_date_taken(path):\n",
    "    creation_date = None\n",
    "    exif_data = None\n",
    "    try:\n",
    "        exif_data = Image.open(path)._getexif()\n",
    "    except:\n",
    "        pass\n",
    "    if exif_data and '36867' in exif_data:\n",
    "        creation_date = exif_data[36867]\n",
    "        creation_date = datetime.datetime.strptime(creation_date, '%Y:%m:%d %H:%M:%S').date()\n",
    "    else:\n",
    "        creation_date = format1(path) or format2(path) or format3(path)\n",
    "    return creation_date"
   ]
  },
  {
   "cell_type": "code",
   "execution_count": 7,
   "metadata": {},
   "outputs": [],
   "source": [
    "err = []\n",
    "succ = []\n",
    "for i in range(len(images)):\n",
    "    date = get_date_taken(images[i])\n",
    "    if date:\n",
    "        succ.append({ \"path\" : images[i],\"date\" : date})\n",
    "    else:\n",
    "        err.append(images[i])"
   ]
  },
  {
   "cell_type": "code",
   "execution_count": 8,
   "metadata": {},
   "outputs": [],
   "source": [
    "def get_directory(d):\n",
    "    return str(d.year)+'_'+str(d.month)"
   ]
  },
  {
   "cell_type": "code",
   "execution_count": 9,
   "metadata": {},
   "outputs": [],
   "source": [
    "def create_directory(p):\n",
    "    Path(p).mkdir(parents=True, exist_ok=True)"
   ]
  },
  {
   "cell_type": "code",
   "execution_count": 15,
   "metadata": {},
   "outputs": [],
   "source": [
    "def copy_files(files):\n",
    "    for image in files:\n",
    "        directory = get_directory(image['date'])\n",
    "        create_directory(directory)\n",
    "        copy2(image['path'],directory)"
   ]
  },
  {
   "cell_type": "code",
   "execution_count": 16,
   "metadata": {},
   "outputs": [
    {
     "name": "stdout",
     "output_type": "stream",
     "text": [
      "CPU times: user 2.01 s, sys: 5.15 s, total: 7.16 s\n",
      "Wall time: 15.7 s\n"
     ]
    }
   ],
   "source": [
    "%time copy_files(succ)"
   ]
  }
 ],
 "metadata": {
  "kernelspec": {
   "display_name": "Python 3",
   "language": "python",
   "name": "python3"
  },
  "language_info": {
   "codemirror_mode": {
    "name": "ipython",
    "version": 3
   },
   "file_extension": ".py",
   "mimetype": "text/x-python",
   "name": "python",
   "nbconvert_exporter": "python",
   "pygments_lexer": "ipython3",
   "version": "3.7.6"
  }
 },
 "nbformat": 4,
 "nbformat_minor": 4
}
